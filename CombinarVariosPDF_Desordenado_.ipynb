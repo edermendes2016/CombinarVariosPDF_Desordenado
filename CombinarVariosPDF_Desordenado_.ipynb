{
  "nbformat": 4,
  "nbformat_minor": 0,
  "metadata": {
    "colab": {
      "provenance": [],
      "mount_file_id": "1vilisLbos0JUYHeIMPSo4rh4E7NAXrZn",
      "authorship_tag": "ABX9TyMbYowx2m7gWC7spqT1Bz9Z",
      "include_colab_link": true
    },
    "kernelspec": {
      "name": "python3",
      "display_name": "Python 3"
    },
    "language_info": {
      "name": "python"
    }
  },
  "cells": [
    {
      "cell_type": "markdown",
      "metadata": {
        "id": "view-in-github",
        "colab_type": "text"
      },
      "source": [
        "<a href=\"https://colab.research.google.com/github/edermendes2016/CombinarVariosPDF_Desordenado/blob/master/CombinarVariosPDF_Desordenado_.ipynb\" target=\"_parent\"><img src=\"https://colab.research.google.com/assets/colab-badge.svg\" alt=\"Open In Colab\"/></a>"
      ]
    },
    {
      "cell_type": "code",
      "source": [
        "!pip install PyPDF4"
      ],
      "metadata": {
        "id": "f6xESr4kM8Ia"
      },
      "execution_count": null,
      "outputs": []
    },
    {
      "cell_type": "code",
      "source": [
        "from google.colab import drive\n",
        "drive.mount('/content/drive')\n",
        "\n",
        "import PyPDF2\n",
        "import os\n",
        "\n",
        "# Caminho para a pasta no Google Drive contendo os arquivos PDF\n",
        "folder_path = '/content/drive/MyDrive/pdfs'\n",
        "\n",
        "# Lista os arquivos na pasta\n",
        "file_list = os.listdir(folder_path)\n",
        "\n",
        "# Cria um objeto PDFWriter\n",
        "pdf_writer = PyPDF2.PdfWriter()\n",
        "\n",
        "# Percorre os arquivos na pasta\n",
        "for file_name in file_list:\n",
        "    if file_name.endswith('.pdf'):  # Verifica se o arquivo é PDF\n",
        "        file_path = os.path.join(folder_path, file_name)\n",
        "        with open(file_path, 'rb') as file:\n",
        "            pdf_reader = PyPDF2.PdfReader(file)\n",
        "            num_pages = len(pdf_reader.pages)\n",
        "            for page_num in range(num_pages):\n",
        "                page = pdf_reader.pages[page_num]\n",
        "                pdf_writer.add_page(page)\n",
        "\n",
        "# Salva o arquivo PDF combinado\n",
        "output_path = os.path.join(folder_path, 'pdf_combinado.pdf')\n",
        "with open(output_path, 'wb') as output_file:\n",
        "    pdf_writer.write(output_file)\n",
        "\n",
        "print(\"Arquivos PDF combinados com sucesso!\")"
      ],
      "metadata": {
        "id": "2CI5a7mHM969"
      },
      "execution_count": null,
      "outputs": []
    }
  ]
}